{
 "cells": [
  {
   "cell_type": "code",
   "execution_count": 3,
   "metadata": {},
   "outputs": [
    {
     "name": "stdout",
     "output_type": "stream",
     "text": [
      "Type the name of a person: Tina\n",
      "Type the name of a person: Takatso\n",
      "Type the name of a person: Fufu\n",
      "Type the name of a person: Tk\n",
      "Type the name of a person: Mfana\n",
      "['Tina', 'Takatso', 'Fufu', 'Tk', 'Mfana']\n"
     ]
    }
   ],
   "source": [
    "#####################  LOOPS   ###############\n",
    "###  Structures of repeatition,used to repeat the same lines of code multiple times. \n",
    "### Also used to iterate over lists, tuples, dictionaries and even strings\n",
    "\n",
    "##################  while Loop #################\n",
    "\n",
    "x = 0\n",
    "people = []    #### empty list[]\n",
    "\n",
    "while x < 5:                                       ########## The list will have 5 elements,loop will run until the condition is not true anymore \n",
    "    person = input(\"Type the name of a person: \")\n",
    "    people.append(person)                             ############## The name typed will be added to the List of people\n",
    "    #x = x + 1, incrementing the value of the variable to get the loop to iterate, use the increment operator \"+=\"\n",
    "    x += 1\n",
    "print(people)\n"
   ]
  },
  {
   "cell_type": "code",
   "execution_count": 4,
   "metadata": {},
   "outputs": [
    {
     "name": "stdout",
     "output_type": "stream",
     "text": [
      "Type the name of a person: Tina\n",
      "Type the name of a person: Takatso\n",
      "Type the name of a person: Fufu\n",
      "Type the name of a person: Tk\n",
      "Type the name of a person: Mfana\n",
      "['Tina', 'Takatso', 'Fufu', 'Tk', 'Mfana']\n"
     ]
    }
   ],
   "source": [
    "############# to make the code shorter, we can use the length of the list\n",
    "\n",
    "people = []\n",
    "\n",
    "while len(people) < 5:\n",
    "        person = input(\"Type the name of a person: \")\n",
    "        people.append(person) \n",
    "print(people)    "
   ]
  },
  {
   "cell_type": "code",
   "execution_count": 6,
   "metadata": {},
   "outputs": [
    {
     "name": "stdout",
     "output_type": "stream",
     "text": [
      "I'm thinking about a number between zero and ten, can you guess it? 1\n",
      "Nope. Try again: 2\n",
      "Nope. Try again: 3\n",
      "Nope. Try again: 4\n",
      "Nope. Try again: 5\n",
      "You guessed it. I was thinking about the number 5\n"
     ]
    }
   ],
   "source": [
    "#############3 Guess Game   ################ Jumping out of loops\n",
    "\n",
    "number = 5\n",
    "guess = int(input(\"I'm thinking about a number between zero and ten, can you guess it? \"))\n",
    "\n",
    "#### Give user multiple chances to guess what the number is\n",
    "\n",
    "while True:\n",
    "    if guess == number:\n",
    "        break\n",
    "    else:\n",
    "        guess = int(input(\"Nope. Try again: \"))\n",
    "print(\"You guessed it. I was thinking about the number\", number)\n"
   ]
  },
  {
   "cell_type": "code",
   "execution_count": 20,
   "metadata": {},
   "outputs": [
    {
     "name": "stdout",
     "output_type": "stream",
     "text": [
      "I'm thinking about a number between zero and ten, can you guess it? 0\n",
      "Nope. Try again: 1\n",
      "You guessed it. I was thinking about the number 1\n"
     ]
    }
   ],
   "source": [
    "###### pick a random number \n",
    "\n",
    "import random\n",
    "number = random.randint(0,10)\n",
    "guess = int(input(\"I'm thinking about a number between zero and ten, can you guess it? \"))\n",
    "\n",
    "#### Give user multiple chances to guess what the number is\n",
    "\n",
    "while True:\n",
    "    if guess == number:\n",
    "        break\n",
    "    else:\n",
    "        guess = int(input(\"Nope. Try again: \"))\n",
    "print(\"You guessed it. I was thinking about the number\", number)\n"
   ]
  },
  {
   "cell_type": "code",
   "execution_count": 27,
   "metadata": {},
   "outputs": [
    {
     "name": "stdout",
     "output_type": "stream",
     "text": [
      "The 10 most coolest math functions in python\n",
      "How to make HTTP requests in python\n",
      "A tutorial about data types in python\n",
      "....................................................................\n",
      "M\n",
      "y\n",
      " \n",
      "n\n",
      "a\n",
      "m\n",
      "e\n",
      " \n",
      "i\n",
      "s\n",
      " \n",
      "T\n",
      "i\n",
      "n\n",
      "a\n",
      "h\n",
      "................................................................\n",
      "0\n",
      "1\n",
      "2\n",
      "3\n",
      "4\n",
      "5\n",
      "6\n",
      "7\n",
      "8\n",
      "9\n"
     ]
    }
   ],
   "source": [
    "############### FOR LOOP ############\n",
    "###          Work as sequence iterators ########## Sequence of elements \n",
    "\n",
    "blog_posts = [\"\", \"The 10 most coolest math functions in python\", \"\", \"How to make HTTP requests in python\", \"A tutorial about data types in python\"]\n",
    " ###########How to print all the blog_posts of that list, using the same lines of code irregardless of how many posts we we have on the list\n",
    "\n",
    "#Start a variable with a value of zero, then start a while loop and use that variable as an index to print each blog_post\n",
    "#But this is much easier using the for loop\n",
    "    \n",
    "for post in blog_posts:\n",
    "    if post == \"\":\n",
    "        continue\n",
    "    else:\n",
    "        print(post)\n",
    "print(\"....................................................................\")\n",
    "\n",
    "myString = \"My name is Tinah\"\n",
    "\n",
    "for s in myString:\n",
    "    print(s)\n",
    "print (\"................................................................\")\n",
    "\n",
    "for x in range(0,10):\n",
    "    print(x)\n",
    "\n",
    "\n",
    "\n",
    "\n",
    "\n",
    "\n",
    "\n",
    "\n",
    "\n",
    "\n",
    "\n",
    "\n",
    "\n",
    "\n",
    "\n"
   ]
  },
  {
   "cell_type": "code",
   "execution_count": 20,
   "metadata": {},
   "outputs": [
    {
     "name": "stdout",
     "output_type": "stream",
     "text": [
      "Create a list of 8 names by asking user input and then choose a random name from the list\n",
      "Type a name: Tina\n",
      "Type a name: Takatso\n",
      "Type a name: Mfana\n",
      "Type a name: Fufu\n",
      "Type a name: Tc\n",
      "Type a name: Tk\n",
      "Type a name: Chunga\n",
      "Type a name: Molekane\n",
      "List of names: ['Tina', 'Takatso', 'Mfana', 'Fufu', 'Tc', 'Tk', 'Chunga', 'Molekane']\n",
      "The length is: 8\n",
      "random element; 4\n",
      "The random name is: Tc\n"
     ]
    }
   ],
   "source": [
    "############# EXERCISE ########################\n",
    "print(\"Create a list of 8 names by asking user input and then choose a random name from the list\")\n",
    "pl = []\n",
    "\n",
    "while len(pl) < 8:\n",
    "    psn = input(\"Type a name: \")\n",
    "    pl.append(psn) \n",
    "print(\"List of names:\", pl)    \n",
    "\n",
    "import random\n",
    "l = len(pl)\n",
    "n = random.randint(0,l)\n",
    "print(\"The length is:\", (l))\n",
    "print(\"random element;\", n)\n",
    "print(\"The random name is:\", pl[n])\n",
    "\n",
    "#import random. after calling the random module, you have to use \"random.randint\", \"random.random\", \"random.choice\", etc\n",
    "############## randint(x,y) gives random intigers from x to y-1"
   ]
  },
  {
   "cell_type": "code",
   "execution_count": 7,
   "metadata": {},
   "outputs": [
    {
     "data": {
      "text/plain": [
       "5"
      ]
     },
     "execution_count": 7,
     "metadata": {},
     "output_type": "execute_result"
    }
   ],
   "source": [
    "import random\n",
    "random.randint(0,10)"
   ]
  },
  {
   "cell_type": "code",
   "execution_count": 3,
   "metadata": {},
   "outputs": [
    {
     "name": "stdout",
     "output_type": "stream",
     "text": [
      "name a colour: Red\n",
      "name a colour: Blue\n",
      "name a colour: Green\n",
      "Guess the colour: Red\n",
      "You Got It.\n",
      "Do you want to play again? Yes or No: Yes\n",
      "Guess the colour: Red\n",
      "You Got It.\n",
      "Do you want to play again? Yes or No: Yes\n",
      "Guess the colour: Red\n",
      "You Got It.\n",
      "Do you want to play again? Yes or No: Yes\n",
      "Guess the colour: Blue\n",
      "You Got It.\n",
      "Do you want to play again? Yes or No: Yes\n",
      "Guess the colour: Green\n",
      "Nope. Try Again.\n",
      "Guess the colour: Blue\n",
      "Nope. Try Again.\n",
      "Guess the colour: Green\n",
      "Nope. Try Again.\n",
      "Guess the colour: Red\n",
      "You Got It.\n",
      "Do you want to play again? Yes or No: No\n"
     ]
    }
   ],
   "source": [
    "############################  EXERCISE 2  ###########################\n",
    "clr = []\n",
    "\n",
    "while len(clr) < 3:\n",
    "    c = input(\"name a colour: \")\n",
    "    clr.append(c)\n",
    " \n",
    "#print(\"List of colours:\", clr)  \n",
    "\n",
    "#print(\"The length of the list of colours is\", len(clr))\n",
    "\n",
    "import random as r\n",
    "rd = r.randint(0,len(clr)-1)\n",
    "rc = clr[rd]\n",
    "#print(\"The random number is\", rd)\n",
    "#print(\"The random colour is\", clr[rd])\n",
    "\n",
    "ask = True\n",
    "\n",
    "while ask == True:\n",
    "    guess = input(\"Guess the colour: \")\n",
    "    if guess == clr[rd]:\n",
    "        print(\"You Got It.\")\n",
    "        a = input(\"Do you want to play again? Yes or No: \")\n",
    "        if a == \"Yes\":\n",
    "            ask = True \n",
    "            rd = r.randint(0,len(clr)-1)\n",
    "            rc = clr[rd]\n",
    "\n",
    "        else:\n",
    "            ask = False\n",
    "    else:\n",
    "        print(\"Nope. Try Again.\")\n",
    "\n"
   ]
  },
  {
   "cell_type": "code",
   "execution_count": null,
   "metadata": {},
   "outputs": [],
   "source": []
  },
  {
   "cell_type": "code",
   "execution_count": null,
   "metadata": {},
   "outputs": [],
   "source": []
  }
 ],
 "metadata": {
  "kernelspec": {
   "display_name": "Python 3",
   "language": "python",
   "name": "python3"
  },
  "language_info": {
   "codemirror_mode": {
    "name": "ipython",
    "version": 3
   },
   "file_extension": ".py",
   "mimetype": "text/x-python",
   "name": "python",
   "nbconvert_exporter": "python",
   "pygments_lexer": "ipython3",
   "version": "3.7.4"
  }
 },
 "nbformat": 4,
 "nbformat_minor": 2
}
